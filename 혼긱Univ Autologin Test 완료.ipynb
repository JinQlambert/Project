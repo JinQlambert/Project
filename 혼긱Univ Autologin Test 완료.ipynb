{
 "cells": [
  {
   "cell_type": "code",
   "execution_count": 1,
   "metadata": {
    "collapsed": true
   },
   "outputs": [],
   "source": [
    "## 파이썬을 이용한 자동 로그인 테스트\n",
    "## 1. 셀레니움 설치\n",
    "## 2. 웹드라이버(크롬) 설치\n",
    "## 3. 직원복무로그인 페이지\n",
    "## 4. 로그인 시도\n",
    "## 5. 로그인 이후 특정 버튼 클릭을 통한 작동 시도 완료료료"
   ]
  },
  {
   "cell_type": "code",
   "execution_count": 2,
   "metadata": {},
   "outputs": [
    {
     "name": "stdout",
     "output_type": "stream",
     "text": [
      "Requirement already satisfied: selenium in c:\\users\\jinq kim\\anaconda3\\lib\\site-packages\n",
      "Requirement already satisfied: bs4 in c:\\users\\jinq kim\\anaconda3\\lib\\site-packages\n",
      "Requirement already satisfied: beautifulsoup4 in c:\\users\\jinq kim\\anaconda3\\lib\\site-packages (from bs4)\n"
     ]
    }
   ],
   "source": [
    "! pip install selenium\n",
    "! pip install bs4"
   ]
  },
  {
   "cell_type": "code",
   "execution_count": 3,
   "metadata": {
    "collapsed": true
   },
   "outputs": [],
   "source": [
    "from selenium import webdriver\n",
    "from selenium.webdriver.common.keys import Keys"
   ]
  },
  {
   "cell_type": "code",
   "execution_count": 4,
   "metadata": {
    "collapsed": true
   },
   "outputs": [],
   "source": [
    "driver = webdriver.Chrome('C:\\\\Users\\\\JinQ Kim\\\\Chromedriver') #크롬 드라이버 호출\n",
    "driver.implicitly_wait(3) #3초 기다려주기\n",
    "\n",
    "url = \"https://www.hongik.ac.kr/login.do?Refer=https%3A%2F%2Fhrm.hongik.ac.kr%2Fnew%2Findex.php\" #접속 페이지 주소를 미리 변수로 저장\n",
    "driver.get(url) "
   ]
  },
  {
   "cell_type": "code",
   "execution_count": 5,
   "metadata": {
    "collapsed": true
   },
   "outputs": [],
   "source": [
    "driver.find_element_by_name('USER_ID').send_keys('***REMOVED***')\n",
    "driver.find_element_by_name('PASSWD').send_keys('***REMOVED***')"
   ]
  },
  {
   "cell_type": "code",
   "execution_count": 6,
   "metadata": {
    "collapsed": true
   },
   "outputs": [],
   "source": [
    "driver.find_element_by_xpath(\"//*[@id='main']/div[2]/div[1]/div[2]/div/table/tbody/tr/td[2]/div/form/div/div/div[2]/button\").click() #로그인 버튼을 클릭해보자"
   ]
  },
  {
   "cell_type": "code",
   "execution_count": 7,
   "metadata": {
    "collapsed": true
   },
   "outputs": [],
   "source": [
    "#테스트 완료. 스택오버플로우에서 확인한 우클릭, copy-copy xpath로 경로 바로 찾을 수 이씀 예에에에에"
   ]
  },
  {
   "cell_type": "code",
   "execution_count": 8,
   "metadata": {
    "collapsed": true
   },
   "outputs": [],
   "source": [
    "driver.find_element_by_xpath('//*[@id=\"fm_index1\"]/div[2]/div[2]/a').click() #넘어간 페이지에서 출근 버튼 클릭"
   ]
  },
  {
   "cell_type": "code",
   "execution_count": null,
   "metadata": {
    "collapsed": true
   },
   "outputs": [],
   "source": [
    "#출근 버튼까지 되는것 확인 완료"
   ]
  }
 ],
 "metadata": {
  "kernelspec": {
   "display_name": "Python 3",
   "language": "python",
   "name": "python3"
  },
  "language_info": {
   "codemirror_mode": {
    "name": "ipython",
    "version": 3
   },
   "file_extension": ".py",
   "mimetype": "text/x-python",
   "name": "python",
   "nbconvert_exporter": "python",
   "pygments_lexer": "ipython3",
   "version": "3.6.3"
  }
 },
 "nbformat": 4,
 "nbformat_minor": 2
}
