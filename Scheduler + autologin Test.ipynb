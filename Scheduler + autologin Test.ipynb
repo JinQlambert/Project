{
 "cells": [
  {
   "cell_type": "code",
   "execution_count": 1,
   "metadata": {},
   "outputs": [
    {
     "name": "stdout",
     "output_type": "stream",
     "text": [
      "Requirement already satisfied: selenium in c:\\users\\jinq kim\\anaconda3\\lib\\site-packages\n"
     ]
    },
    {
     "ename": "KeyboardInterrupt",
     "evalue": "",
     "output_type": "error",
     "traceback": [
      "\u001b[1;31m---------------------------------------------------------------------------\u001b[0m",
      "\u001b[1;31mKeyboardInterrupt\u001b[0m                         Traceback (most recent call last)",
      "\u001b[1;32m<ipython-input-1-6ace018755a3>\u001b[0m in \u001b[0;36m<module>\u001b[1;34m()\u001b[0m\n\u001b[0;32m     46\u001b[0m         \u001b[1;32mwhile\u001b[0m \u001b[1;32mTrue\u001b[0m\u001b[1;33m:\u001b[0m\u001b[1;33m\u001b[0m\u001b[0m\n\u001b[0;32m     47\u001b[0m                 \u001b[0mschedule\u001b[0m\u001b[1;33m.\u001b[0m\u001b[0mrun_pending\u001b[0m\u001b[1;33m(\u001b[0m\u001b[1;33m)\u001b[0m\u001b[1;33m\u001b[0m\u001b[0m\n\u001b[1;32m---> 48\u001b[1;33m                 \u001b[0mtime\u001b[0m\u001b[1;33m.\u001b[0m\u001b[0msleep\u001b[0m\u001b[1;33m(\u001b[0m\u001b[1;36m1\u001b[0m\u001b[1;33m)\u001b[0m\u001b[1;33m\u001b[0m\u001b[0m\n\u001b[0m",
      "\u001b[1;31mKeyboardInterrupt\u001b[0m: "
     ]
    }
   ],
   "source": [
    "! pip install selenium\n",
    "\n",
    "import random\n",
    "import time\n",
    "\n",
    "import schedule\n",
    "\n",
    "from selenium import webdriver\n",
    "from selenium.webdriver.common.keys import Keys\n",
    "\n",
    "def Surprise():\n",
    "\t# Random Surprise\n",
    "\ttick = random.randrange(10,50)\n",
    "\tprint(tick)\n",
    "\n",
    "\tjob = schedule.every(tick).minute\n",
    "\tdef attendance(job):\n",
    "\t\tschedule.jobs.remove(job)\n",
    "\t\tRealEvent()\n",
    "\n",
    "\tjob.do(attendance, job)\n",
    "\n",
    "\n",
    "schedule.every().day.at(\"8:00\").do(Surprise)\n",
    "\n",
    "\n",
    "def RealEvent():\n",
    "\n",
    "    \n",
    "    driver = webdriver.Chrome('C:\\\\Users\\\\JinQ Kim\\\\Chromedriver') #크롬 드라이버 호출\n",
    "    driver.implicitly_wait(3) #3초 기다려주기\n",
    "\n",
    "    url = \"https://www.hongik.ac.kr/login.do?Refer=https%3A%2F%2Fhrm.hongik.ac.kr%2Fnew%2Findex.php\" #접속 페이지 주소를 미리 변수로 저장\n",
    "    driver.get(url) \n",
    "    \n",
    "    driver.find_element_by_name('USER_ID').send_keys('loginid')\n",
    "    driver.find_element_by_name('PASSWD').send_keys('loginpw')\n",
    "    \n",
    "    driver.find_element_by_xpath(\"//*[@id='main']/div[2]/div[1]/div[2]/div/table/tbody/tr/td[2]/div/form/div/div/div[2]/button\").click() #로그인 버튼을 클릭해보자\n",
    "    \n",
    "    driver.implicitly_wait(5)\n",
    "    \n",
    "    driver.find_element_by_xpath('//*[@id=\"fm_index1\"]/div[2]/div[2]/a').click() #넘어간 페이지에서 출근 버튼 클릭\n",
    "\n",
    "if __name__ == \"__main__\":\n",
    "\twhile True:\n",
    "\t\tschedule.run_pending()\n",
    "\t\ttime.sleep(1)"
   ]
  },
  {
   "cell_type": "code",
   "execution_count": null,
   "metadata": {
    "collapsed": true
   },
   "outputs": [],
   "source": []
  }
 ],
 "metadata": {
  "kernelspec": {
   "display_name": "Python 3",
   "language": "python",
   "name": "python3"
  },
  "language_info": {
   "codemirror_mode": {
    "name": "ipython",
    "version": 3
   },
   "file_extension": ".py",
   "mimetype": "text/x-python",
   "name": "python",
   "nbconvert_exporter": "python",
   "pygments_lexer": "ipython3",
   "version": "3.6.3"
  }
 },
 "nbformat": 4,
 "nbformat_minor": 2
}
