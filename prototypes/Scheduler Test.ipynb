{
 "cells": [
  {
   "cell_type": "code",
   "execution_count": 1,
   "metadata": {},
   "outputs": [
    {
     "name": "stdout",
     "output_type": "stream",
     "text": [
      "Collecting schedule\n",
      "  Downloading schedule-0.5.0-py2.py3-none-any.whl\n",
      "Installing collected packages: schedule\n",
      "Successfully installed schedule-0.5.0\n"
     ]
    }
   ],
   "source": [
    "! pip install schedule"
   ]
  },
  {
   "cell_type": "code",
   "execution_count": 2,
   "metadata": {
    "collapsed": true
   },
   "outputs": [],
   "source": [
    "##import schedule\n",
    "##import time\n",
    "\n",
    "##def job():\n",
    "##    print(\"I'm working...\")\n",
    "\n",
    "##schedule.every(10).minutes.do(job)\n",
    "##schedule.every().hour.do(job)\n",
    "##schedule.every().day.at(\"10:30\").do(job)\n",
    "##schedule.every().monday.do(job)\n",
    "##schedule.every().wednesday.at(\"13:15\").do(job)\n",
    "\n",
    "##while True:\n",
    "##    schedule.run_pending()\n",
    "##    time.sleep(1)"
   ]
  },
  {
   "cell_type": "code",
   "execution_count": 3,
   "metadata": {
    "collapsed": true
   },
   "outputs": [],
   "source": [
    "import schedule\n",
    "import time"
   ]
  },
  {
   "cell_type": "code",
   "execution_count": null,
   "metadata": {},
   "outputs": [],
   "source": [
    "def attendance():\n",
    "    print(\"출석 완료\") #해당 프로그램 실행하는 방법은?\n",
    "    \n",
    "schedule.every(30).to(59).seconds.do(attendance)\n",
    "\n",
    "while True:\n",
    "        schedule.run_pending()\n",
    "        time.sleep(1)"
   ]
  },
  {
   "cell_type": "code",
   "execution_count": null,
   "metadata": {
    "collapsed": true
   },
   "outputs": [],
   "source": [
    "#안되네..? 뭐가 문제지?\n",
    "#그리고 휴일같은건 어떻게 처리할 수 있을까 그냥 컴퓨터를 꺼?\n",
    "#그럼 일주일에 하루는 일찍와서 컴퓨터를 켜야한다는 소리네\n",
    "#컴퓨터 켜져있는지 어떤지 확인할 수 있는 봇도 필요할까?"
   ]
  },
  {
   "cell_type": "code",
   "execution_count": null,
   "metadata": {
    "collapsed": true
   },
   "outputs": [],
   "source": []
  }
 ],
 "metadata": {
  "kernelspec": {
   "display_name": "Python 3",
   "language": "python",
   "name": "python3"
  },
  "language_info": {
   "codemirror_mode": {
    "name": "ipython",
    "version": 3
   },
   "file_extension": ".py",
   "mimetype": "text/x-python",
   "name": "python",
   "nbconvert_exporter": "python",
   "pygments_lexer": "ipython3",
   "version": "3.6.3"
  }
 },
 "nbformat": 4,
 "nbformat_minor": 2
}
